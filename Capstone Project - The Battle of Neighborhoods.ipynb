{
    "cells": [
        {
            "metadata": {
                "collapsed": true
            },
            "cell_type": "markdown",
            "source": "   __The Battle of Neighborhoods  Business Proposal  \n   Introduction :__  "
        },
        {
            "metadata": {},
            "cell_type": "markdown",
            "source": "The motivation behind this Project is to help individuals in investigating better offices around their neighborhood. It will help individuals settling on shrewd and proficient choice on choosing incredible neighborhood out of quantities of different neighborhoods in Scarborough, Toranto. \n\nHeaps of individuals are moving to different conditions of Canada and required bunches of research at great lodging costs and reputated schools for their kids. This undertaking is for those individuals who are searching for better neighborhoods. For simplicity of getting to Cafe, School, Super market, clinical shops, basic food item shops, shopping center, theater, emergency clinic, similarly invested individuals, and so on. \n\nThis Project intend to make an investigation of highlights for a people relocating to Scarborough to look through a best neighborhood as a similar examination between neighborhoods. The highlights incorporate middle lodging cost and better school as indicated by appraisals, crime percentages of that specific region, street network, climate conditions, great administration for crisis, water assets both freash and waste water and fecal matter passed on in sewers and recreational offices. \n\nIt will help individuals to get attention to the region and neighborhood before moving to another city, state, nation or spot for their work or to begin another new life"
        },
        {
            "metadata": {},
            "cell_type": "markdown",
            "source": "__Problem Which Tried to Solve:__"
        },
        {
            "metadata": {},
            "cell_type": "markdown",
            "source": "The major purpose of this project, is to suggest a better neighborhood in a new city for the person who are shiffting there. Social presence in society in terms of like minded people. Connectivity to the airport, bus stand, city center, markets and other daily needs things nearby.\n\n1.Sorted list of house in terms of housing prices in a ascending or descending order  \n2.Sorted list of schools in terms of location, fees, rating and reviews"
        },
        {
            "metadata": {},
            "cell_type": "markdown",
            "source": "__The Location:__"
        },
        {
            "metadata": {},
            "cell_type": "markdown",
            "source": "Scarborough is a popular destination for new immigrants in Canada to reside. As a result, it is one of the most diverse and multicultural areas in the Greater Toronto Area, being home to various religious groups and places of worship. Although immigration has become a hot topic over the past few years with more governments seeking more restrictions on immigrants and refugees, the general trend of immigration into Canada has been one of on the rise"
        },
        {
            "metadata": {},
            "cell_type": "markdown",
            "source": "__Foursquare API:__"
        },
        {
            "metadata": {},
            "cell_type": "markdown",
            "source": "This project would use Four-square API as its prime data gathering source as it has a database of millions of places, especially their places API which provides the ability to perform location search, location sharing and details about a business"
        },
        {
            "metadata": {},
            "cell_type": "markdown",
            "source": "__Work Flow:__"
        },
        {
            "metadata": {},
            "cell_type": "markdown",
            "source": "Using credentials of Foursquare API features of near-by places of the neighborhoods would be mined. Due to http request limitations the number of places per neighborhood parameter would reasonably be set to 100 and the radius parameter would be set to 500."
        },
        {
            "metadata": {},
            "cell_type": "markdown",
            "source": "__Clustering Approach:__"
        },
        {
            "metadata": {},
            "cell_type": "markdown",
            "source": "To compare the similarities of two cities, we decided to explore neighborhoods, segment them, and group them into clusters to find similar neighborhoods in a big city like New York and Toronto. To be able to do that, we need to cluster data which is a form of unsupervised machine learning: k-means clustering algorithm."
        },
        {
            "metadata": {},
            "cell_type": "markdown",
            "source": "__Libraries Which are Used to Develope the Project:__"
        },
        {
            "metadata": {},
            "cell_type": "markdown",
            "source": "1.Pandas: For creating and manipulating dataframes.  \n\n2.Folium: Python visualization library would be used to visualize the neighborhoods cluster distribution of using interactive leaflet map.  \n\n3.Scikit Learn: For importing k-means clustering.  \n\n4.JSON: Library to handle JSON files.  \n\n5.XML: To separate data from presentation and XML stores data in plain text format.  \n\n6.Geocoder: To retrieve Location Data.  \n\n7.Beautiful Soup and Requests: To scrap and library to handle http requests.  \n\n8.Matplotlib: Python Plotting Module.  "
        },
        {
            "metadata": {},
            "cell_type": "code",
            "source": "",
            "execution_count": null,
            "outputs": []
        }
    ],
    "metadata": {
        "kernelspec": {
            "name": "python3",
            "display_name": "Python 3.6",
            "language": "python"
        },
        "language_info": {
            "name": "python",
            "version": "3.6.9",
            "mimetype": "text/x-python",
            "codemirror_mode": {
                "name": "ipython",
                "version": 3
            },
            "pygments_lexer": "ipython3",
            "nbconvert_exporter": "python",
            "file_extension": ".py"
        }
    },
    "nbformat": 4,
    "nbformat_minor": 1
}